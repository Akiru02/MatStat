{
  "nbformat": 4,
  "nbformat_minor": 0,
  "metadata": {
    "colab": {
      "provenance": []
    },
    "kernelspec": {
      "name": "python3",
      "display_name": "Python 3"
    },
    "language_info": {
      "name": "python"
    }
  },
  "cells": [
    {
      "cell_type": "markdown",
      "source": [
        "LAB 1"
      ],
      "metadata": {
        "id": "XJfRWxx8H3-B"
      }
    },
    {
      "cell_type": "code",
      "execution_count": null,
      "metadata": {
        "colab": {
          "base_uri": "https://localhost:8080/"
        },
        "id": "GB2ZNqHlRPKT",
        "outputId": "f80ba9df-8e9d-44d7-e451-91d200f1c068"
      },
      "outputs": [
        {
          "output_type": "stream",
          "name": "stdout",
          "text": [
            "Mean: 2.8524999999999996\n",
            "Variance: 0.20632875\n"
          ]
        }
      ],
      "source": [
        "import numpy as np\n",
        "\n",
        "# Assume we have a sample of data\n",
        "sample = np.array([2.28, 3.36, 3.2, 2.83, 2.52, 3.08, 2.69, 3.27, 2.25, 2, 2.18, 2.88, 2.56, 3.39, 3.18, 3.76, 2.92, 3.26, 2.76, 2.68])\n",
        "\n",
        "# Calculate the mean\n",
        "mean = np.mean(sample)\n",
        "print(f'Mean: {mean}')\n",
        "\n",
        "# Calculate the variance\n",
        "variance = np.var(sample)\n",
        "print(f'Variance: {variance}')"
      ]
    },
    {
      "cell_type": "code",
      "source": [
        "# Sort the sample data\n",
        "sorted_sample = np.sort(sample)\n",
        "\n",
        "# Create a variation series\n",
        "variation_series = np.diff(sorted_sample)\n",
        "print('Variation Series:')\n",
        "print(variation_series)\n",
        "\n",
        "# Create an empirical distribution function\n",
        "def edf(x, sorted_sample):\n",
        "    return np.searchsorted(sorted_sample, x) / len(sorted_sample)\n",
        "\n",
        "x = np.linspace(sorted_sample.min(), sorted_sample.max(), 100)\n",
        "y = edf(x, sorted_sample)\n",
        "\n",
        "# Plot the empirical distribution function\n",
        "import matplotlib.pyplot as plt\n",
        "plt.plot(x, y)\n",
        "plt.title('Empirical Distribution Function')\n",
        "plt.xlabel('x')\n",
        "plt.ylabel('Probability')\n",
        "plt.show()"
      ],
      "metadata": {
        "colab": {
          "base_uri": "https://localhost:8080/",
          "height": 524
        },
        "id": "RIpTcQ4sRSRl",
        "outputId": "34f631a0-9150-4e2a-dafe-2d5c348fee0c"
      },
      "execution_count": null,
      "outputs": [
        {
          "output_type": "stream",
          "name": "stdout",
          "text": [
            "Variation Series:\n",
            "[0.18 0.07 0.03 0.24 0.04 0.12 0.01 0.07 0.07 0.05 0.04 0.16 0.1  0.02\n",
            " 0.06 0.01 0.09 0.03 0.37]\n"
          ]
        },
        {
          "output_type": "display_data",
          "data": {
            "text/plain": [
              "<Figure size 640x480 with 1 Axes>"
            ],
            "image/png": "[encoded data removed]"
          },
          "metadata": {}
        }
      ]
    },
    {
      "cell_type": "markdown",
      "source": [
        "На основе выборочных данных среднее значение составляет 2,85, а дисперсия — 0,206. Вариационный ряд показывает различия между последовательными значениями в отсортированных выборочных данных. Эмпирическая функция распределения отображает кумулятивную функцию распределения выборочных данных, которую можно использовать для оценки вероятности наблюдения значения, меньшего или равного заданному значению."
      ],
      "metadata": {
        "id": "Cx54o1W5Swlx"
      }
    },
    {
      "cell_type": "markdown",
      "source": [
        "LAB 2"
      ],
      "metadata": {
        "id": "Qj2mNlmlH-fH"
      }
    },
    {
      "cell_type": "markdown",
      "source": [
        "{\n",
        "    \"распределение\": \"Равномерное распределение на отрезке [0, theta]\",\n",
        "    \n",
        "    \"задача1\": \"найти точечную оценку параметра theta методом максимального правдоподобия\",\n",
        "\n",
        "    \"задача2\": \"построить доверительнвй интервал уровня доверия alpha = 0.95\",\n",
        "    \"x\": [\n",
        "        0.0335,\n",
        "        0.059,\n",
        "        0.112,\n",
        "        0.2456,\n",
        "        0.1256,\n",
        "        0.0524,\n",
        "        0.244,\n",
        "        0.4839,\n",
        "        0.4993,\n",
        "        0.2864,\n",
        "        0.0726,\n",
        "        0.4075,\n",
        "        0.3127,\n",
        "        0.0363,\n",
        "        0.2509,\n",
        "        0.4845,\n",
        "        0.3033,\n",
        "        0.483,\n",
        "        0.3613,\n",
        "        0.0644,\n",
        "        0.2705,\n",
        "        0.2513,\n",
        "        0.3656,\n",
        "        0.2151,\n",
        "        0.2029,\n",
        "        0.2075,\n",
        "        0.2817,\n",
        "        0.0374,\n",
        "        0.1203,\n",
        "        0.1037,\n",
        "        0.0006,\n",
        "        0.1349,\n",
        "        0.126,\n",
        "        0.3914,\n",
        "        0.2185,\n",
        "        0.299,\n",
        "        0.4588,\n",
        "        0.0516,\n",
        "        0.2007,\n",
        "        0.1404,\n",
        "        0.4772,\n",
        "        0.1247,\n",
        "        0.234,\n",
        "        0.3973,\n",
        "        0.2929,\n",
        "        0.1477,\n",
        "        0.1944,\n",
        "        0.2008,\n",
        "        0.451,\n",
        "        0.1718\n",
        "    ]\n",
        "}"
      ],
      "metadata": {
        "id": "fZl5dsvTWBWJ"
      }
    },
    {
      "cell_type": "code",
      "source": [
        "import numpy as np\n",
        "import scipy.stats as stats\n",
        "# Задача 1: Найти точечную оценку параметра theta методом максимального правдоподобия\n",
        "\n",
        "data = np.array([\n",
        "    0.0335,  0.059,  0.112,  0.2456, 0.1256,  0.0524,  0.244,\n",
        "    0.4839,  0.4993, 0.2864,  0.0726, 0.4075,  0.3127, 0.0363,\n",
        "    0.2509,  0.4845, 0.3033,  0.483,  0.3613, 0.0644, 0.2705,\n",
        "    0.2513, 0.3656, 0.2151, 0.2029, 0.2075, 0.2817, 0.0374,\n",
        "    0.1203, 0.1037, 0.0006, 0.1349, 0.126,  0.3914, 0.2185,\n",
        "    0.299,  0.4588, 0.0516, 0.2007, 0.1404, 0.4772, 0.1247,\n",
        "    0.234,  0.3973, 0.2929, 0.1477, 0.1944, 0.2008, 0.451,\n",
        "    0.1718\n",
        "])\n",
        "\n",
        "# Вычисление оценки максимального правдоподобия (MLE) теты\n",
        "theta_hat = max(data)\n",
        "print(\"Точечная оценка параметра теты:\", theta_hat)\n",
        "\n",
        "# построить доверительнвй интервал уровня доверия alpha = 0.95\n",
        "n = len(data)\n",
        "alpha = 0.05\n",
        "\n",
        "# Найти доверительный интервал\n",
        "T1 = theta_hat\n",
        "T2 = theta_hat * (alpha ** (-1/n))\n",
        "\n",
        "print(f\"Доверительный интервал {100*(1-alpha):.0f}% для теты равен: [{T1:.4f}, {T2:.4f}]\")"
      ],
      "metadata": {
        "colab": {
          "base_uri": "https://localhost:8080/"
        },
        "id": "qKID5GgGmXTm",
        "outputId": "f334211a-ddc6-44f6-cc39-4b3e44e5dbdf"
      },
      "execution_count": null,
      "outputs": [
        {
          "output_type": "stream",
          "name": "stdout",
          "text": [
            "Точечная оценка параметра теты: 0.4993\n",
            "Доверительный интервал 95% для теты равен: [0.4993, 0.5301]\n"
          ]
        }
      ]
    },
    {
      "cell_type": "code",
      "source": [
        "# Выборочное значние\n",
        "mean = np.mean(data)\n",
        "print(\"Выборочное значние\", mean)\n",
        "# Дисперсия\n",
        "variance = np.var(data)\n",
        "print(\"Дисперсия\", variance)\n",
        "# Среднеквадратичное отклонение\n",
        "s = np.sqrt(variance)\n",
        "print(\"Среднеквадратичное отклонение\", s)\n",
        "# Размер выборки\n",
        "n = len(data)\n",
        "print(f'Размер выборки: {n}')\n",
        "min = np.min(data)\n",
        "print(\"Min\", min)"
      ],
      "metadata": {
        "colab": {
          "base_uri": "https://localhost:8080/"
        },
        "id": "c9hdEld_gdvc",
        "outputId": "38dddb7f-5848-4b94-a439-6d0995ed4537"
      },
      "execution_count": null,
      "outputs": [
        {
          "output_type": "stream",
          "name": "stdout",
          "text": [
            "Выборочное значние 0.23375800000000002\n",
            "Дисперсия 0.019909580835999998\n",
            "Среднеквадратичное отклонение 0.14110131408317925\n",
            "Размер выборки: 50\n",
            "Min 0.0006\n"
          ]
        }
      ]
    },
    {
      "cell_type": "markdown",
      "source": [
        "LAB 3"
      ],
      "metadata": {
        "id": "hGpsKeZvExSA"
      }
    },
    {
      "cell_type": "markdown",
      "source": [
        "Variant 18:\n",
        "\"Задача\": \"С помощью критерия Пирсона (хи-квадрат), проверить гипотезу, что случайная выборка, имеет экспоненциальное распределение с параметром lambda = 2.17. Взять равномерную сетку из 10 интервалов и уровень значимости epsilon = 0.05.\",\n",
        "    \"lambda\": 2.17,\n",
        "    \"x\": [\n",
        "        0.17,\n",
        "        0.29,\n",
        "        0.86,\n",
        "        0.12,\n",
        "        3.06,\n",
        "        0.12,\n",
        "        0.41,\n",
        "        0.11,\n",
        "        0.71,\n",
        "        0.72,\n",
        "        1.01,\n",
        "        0.27,\n",
        "        0.11,\n",
        "        2.65,\n",
        "        0.16,\n",
        "        0.64,\n",
        "        0.26,\n",
        "        0.77,\n",
        "        0.01,\n",
        "        0.62,\n",
        "        0.13,\n",
        "        0.45,\n",
        "        1.11,\n",
        "        1.28,\n",
        "        0.63,\n",
        "        0.11,\n",
        "        0.45,\n",
        "        0.26,\n",
        "        1.45,\n",
        "        0.04,\n",
        "        0.08,\n",
        "        0.61,\n",
        "        0.52,\n",
        "        0.25,\n",
        "        0.02,\n",
        "        1.14,\n",
        "        1.38,\n",
        "        0.48,\n",
        "        0.3,\n",
        "        0.02,\n",
        "        0.1,\n",
        "        0.65,\n",
        "        0.3,\n",
        "        0.27,\n",
        "        0.03,\n",
        "        0.01,\n",
        "        0.25,\n",
        "        0.46,\n",
        "        0.77,\n",
        "        0.62,\n",
        "        0.19,\n",
        "        1.36,\n",
        "        1.96,\n",
        "        0.03,\n",
        "        0.04,\n",
        "        0.49,\n",
        "        0.42,\n",
        "        0.5,\n",
        "        0.11,\n",
        "        0.09,\n",
        "        0.1,\n",
        "        0.75,\n",
        "        0.09,\n",
        "        0.68,\n",
        "        0.45,\n",
        "        0.12,\n",
        "        0.09,\n",
        "        1.58,\n",
        "        0.27,\n",
        "        0.27,\n",
        "        0.62,\n",
        "        0.65,\n",
        "        0.75,\n",
        "        1.23,\n",
        "        0.36,\n",
        "        0.08,\n",
        "        0.24,\n",
        "        1.02,\n",
        "        0.08,\n",
        "        0.59,\n",
        "        0.29,\n",
        "        0.54,\n",
        "        0.51,\n",
        "        0.47,\n",
        "        0.36,\n",
        "        0.54,\n",
        "        0.57,\n",
        "        0.01,\n",
        "        0.06,\n",
        "        0.0,\n",
        "        0.28,\n",
        "        0.1,\n",
        "        0.56,\n",
        "        0.23,\n",
        "        0.45,\n",
        "        0.17,\n",
        "        0.92,\n",
        "        0.29,\n",
        "        0.68,\n",
        "        2.21\n",
        "    ]\n",
        "}"
      ],
      "metadata": {
        "id": "2QKcfBZPULRY"
      }
    },
    {
      "cell_type": "code",
      "source": [
        "import numpy as np\n",
        "from scipy.stats import chi2\n",
        "\n",
        "# Данные\n",
        "x = [ 0.17, 0.29, 0.86, 0.12, 3.06, 0.12, 0.41, 0.11, 0.71, 0.72,\n",
        "      1.01, 0.27, 0.11, 2.65, 0.16, 0.64, 0.26, 0.77, 0.01, 0.62,\n",
        "      0.13, 0.45, 1.11, 1.28, 0.63, 0.11, 0.45, 0.26, 1.45, 0.04,\n",
        "      0.08, 0.61, 0.52, 0.25, 0.02, 1.14, 1.38, 0.48, 0.3, 0.02,\n",
        "      0.1, 0.65, 0.3, 0.27, 0.03, 0.01, 0.25, 0.46, 0.77, 0.62,\n",
        "      0.19, 1.36, 1.96, 0.03, 0.04, 0.49, 0.42, 0.5, 0.11, 0.09,\n",
        "      0.1, 0.75, 0.09, 0.68, 0.45, 0.12, 0.09, 1.58, 0.27, 0.27,\n",
        "      0.62, 0.65, 0.75, 1.23, 0.36, 0.08, 0.24, 1.02, 0.08, 0.59,\n",
        "      0.29, 0.54, 0.51, 0.47, 0.36, 0.54, 0.57, 0.01, 0.06, 0.0,\n",
        "      0.28, 0.1, 0.56, 0.23, 0.45, 0.17, 0.92, 0.29, 0.68, 2.21 ]\n",
        "\n",
        "# Параметр распределения экспоненты\n",
        "lambda_ = 2.17\n",
        "\n",
        "# Число интервалов\n",
        "k = 10\n",
        "\n",
        "# Ширина каждого интервала\n",
        "width = 0.25\n",
        "\n",
        "# Нижние границы каждого интервала\n",
        "lower_bounds = np.arange(0, 2.5 + width, width)\n",
        "\n",
        "n = len(x)\n",
        "\n",
        "# Рассчитать вероятность каждого интервала при экспоненциальном распределении\n",
        "probabilities = np.exp(-lambda_ * lower_bounds) - np.exp(-lambda_ * (lower_bounds + width))\n",
        "\n",
        "# Вычисление ожидаемых частот\n",
        "expected_frequencies = n * probabilities\n",
        "\n",
        "# Вычисление наблюдаемых частот\n",
        "observed_frequencies = np.zeros(k)\n",
        "for value in x:\n",
        "    if value < 2.5:\n",
        "        interval_index = int(value // width)\n",
        "        observed_frequencies[interval_index] += 1\n",
        "    else:\n",
        "        observed_frequencies[-1] += 1\n",
        "\n",
        "# Вычисление статистики хи-квадрат\n",
        "chi_square = np.sum(((observed_frequencies - expected_frequencies[:k]) ** 2) / expected_frequencies[:k])\n",
        "\n",
        "# Степени свободы\n",
        "df = k - 1\n",
        "\n",
        "# Уровень значимости\n",
        "epsilon = 0.05\n",
        "\n",
        "# Критическое значение\n",
        "critical_value = chi2.ppf(1 - epsilon, df)\n",
        "\n",
        "print(f\"Статистика хи-квадрат: {chi_square:.2f}\")\n",
        "print(f\"Степени свободы: {df}\")\n",
        "print(f\"Уровень значимости: {epsilon}\")\n",
        "print(f\"Критическое значение: {critical_value:.2f}\")\n",
        "\n",
        "if chi_square < critical_value:\n",
        "    print(\"Не отвергаем нулевую гипотезу.\")\n",
        "    print(\"Недостаточно доказательств для заключения, что данные значительно отличаются от распределения экспоненты с заданным параметром.\")\n",
        "else:\n",
        "    print(\"Отвергаем нулевую гипотезу.\")\n",
        "    print(\"Данные значительно отличаются от распределения экспоненты с заданным параметром.\")"
      ],
      "metadata": {
        "colab": {
          "base_uri": "https://localhost:8080/"
        },
        "id": "_5uvMTQfUtu4",
        "outputId": "efd1f69d-b695-4100-b84f-5ac3ffb53cf1"
      },
      "execution_count": null,
      "outputs": [
        {
          "output_type": "stream",
          "name": "stdout",
          "text": [
            "Статистика хи-квадрат: 14.70\n",
            "Степени свободы: 9\n",
            "Уровень значимости: 0.05\n",
            "Критическое значение: 16.92\n",
            "Не отвергаем нулевую гипотезу.\n",
            "Недостаточно доказательств для заключения, что данные значительно отличаются от распределения экспоненты с заданным параметром.\n"
          ]
        }
      ]
    },
    {
      "cell_type": "markdown",
      "source": [
        "LAB 4"
      ],
      "metadata": {
        "id": "4lHCqNVOEzIv"
      }
    },
    {
      "cell_type": "markdown",
      "source": [
        "Variant 18\n",
        "{\n",
        "    \"Задача\": \"Методом наименьших квадратов найти коэффициенты линейной регрессии f(x) = w0 + w1 * x + w2 * x * x и вычислить среднеквадратическое отклонение (RMSE). На графике изобразить точки выборки (x, t) и график линейной регрессии.\",\n",
        "    \"x\": [\n",
        "        1.0,\n",
        "        1.1,\n",
        "        1.2,\n",
        "        1.3,\n",
        "        1.4,\n",
        "        1.5,\n",
        "        1.6,\n",
        "        1.7,\n",
        "        1.8,\n",
        "        1.9,\n",
        "        2.0,\n",
        "        2.1,\n",
        "        2.2,\n",
        "        2.3,\n",
        "        2.4,\n",
        "        2.5,\n",
        "        2.6,\n",
        "        2.7,\n",
        "        2.8,\n",
        "        2.9\n",
        "    ],\n",
        "    \"t\": [\n",
        "        2.0,\n",
        "        1.9,\n",
        "        1.7,\n",
        "        1.4,\n",
        "        1.4,\n",
        "        1.2,\n",
        "        1.4,\n",
        "        1.2,\n",
        "        1.0,\n",
        "        1.0,\n",
        "        1.1,\n",
        "        1.1,\n",
        "        1.2,\n",
        "        0.8,\n",
        "        1.2,\n",
        "        1.3,\n",
        "        1.4,\n",
        "        1.6,\n",
        "        1.7,\n",
        "        1.8\n",
        "    ]\n",
        "}"
      ],
      "metadata": {
        "id": "NY7tCM68EOiH"
      }
    },
    {
      "cell_type": "code",
      "source": [
        "import numpy as np\n",
        "import matplotlib.pyplot as plt\n",
        "\n",
        "# Load the data\n",
        "x = np.array([\n",
        " 1.0,\n",
        " 1.1,\n",
        " 1.2,\n",
        " 1.3,\n",
        " 1.4,\n",
        " 1.5,\n",
        " 1.6,\n",
        " 1.7,\n",
        " 1.8,\n",
        " 1.9,\n",
        " 2.0,\n",
        " 2.1,\n",
        " 2.2,\n",
        " 2.3,\n",
        " 2.4,\n",
        " 2.5,\n",
        " 2.6,\n",
        " 2.7,\n",
        " 2.8,\n",
        " 2.9\n",
        "])\n",
        "\n",
        "t = np.array([\n",
        " 2.0,\n",
        " 1.9,\n",
        " 1.7,\n",
        " 1.4,\n",
        " 1.4,\n",
        " 1.2,\n",
        " 1.4,\n",
        " 1.2,\n",
        " 1.0,\n",
        " 1.0,\n",
        " 1.1,\n",
        " 1.1,\n",
        " 1.2,\n",
        " 0.8,\n",
        " 1.2,\n",
        " 1.3,\n",
        " 1.4,\n",
        " 1.6,\n",
        " 1.7,\n",
        " 1.8\n",
        "])\n",
        "\n",
        "# Define the design matrix\n",
        "X = np.vstack([np.ones(len(x)), x, x**2]).T\n",
        "\n",
        "# Compute the coefficients using least squares\n",
        "w, _, _, _ = np.linalg.lstsq(X, t, rcond=None)\n",
        "\n",
        "# Print the coefficients\n",
        "print(\"Coefficients:\")\n",
        "print(\"w0 =\", w[0])\n",
        "print(\"w1 =\", w[1])\n",
        "print(\"w2 =\", w[2])\n",
        "\n",
        "# Calculate the predicted values\n",
        "t_pred = w[0] + w[1]*x + w[2]*x**2\n",
        "\n",
        "# Calculate the root mean square deviation (RMSE)\n",
        "rmse = np.sqrt(np.mean((t - t_pred)**2))\n",
        "print(\"RMSE =\", rmse)\n",
        "\n",
        "# Plot the sample points and the linear regression graph\n",
        "plt.scatter(x, t, label=\"Sample points\")\n",
        "plt.plot(x, t_pred, label=\"Linear regression\")\n",
        "plt.xlabel(\"x\")\n",
        "plt.ylabel(\"t\")\n",
        "plt.legend()\n",
        "plt.show()"
      ],
      "metadata": {
        "colab": {
          "base_uri": "https://localhost:8080/",
          "height": 540
        },
        "id": "9VVfwMKoZztw",
        "outputId": "4b4be1d8-b580-4f96-974a-e7379f677e53"
      },
      "execution_count": null,
      "outputs": [
        {
          "output_type": "stream",
          "name": "stdout",
          "text": [
            "Coefficients:\n",
            "w0 = 4.9967053998632975\n",
            "w1 = -3.9542720437457377\n",
            "w2 = 0.9876965140123057\n",
            "RMSE = 0.10483329864985635\n"
          ]
        },
        {
          "output_type": "display_data",
          "data": {
            "text/plain": [
              "<Figure size 640x480 with 1 Axes>"
            ],
            "image/png": "[encoded data removed]"
          },
          "metadata": {}
        }
      ]
    }
  ]
}